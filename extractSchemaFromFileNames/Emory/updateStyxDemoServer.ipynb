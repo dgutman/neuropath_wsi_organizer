{
 "cells": [
  {
   "cell_type": "code",
   "execution_count": 1,
   "id": "3ab20020",
   "metadata": {},
   "outputs": [],
   "source": [
    "%load_ext autoreload\n",
    "%autoreload 2"
   ]
  },
  {
   "cell_type": "code",
   "execution_count": 2,
   "id": "228bfc7d",
   "metadata": {
    "scrolled": true
   },
   "outputs": [
    {
     "ename": "SyntaxError",
     "evalue": "invalid syntax (brain_region_maps.py, line 1716)",
     "output_type": "error",
     "traceback": [
      "Traceback \u001b[1;36m(most recent call last)\u001b[0m:\n",
      "\u001b[0m  File \u001b[0;32m~\\AppData\\Local\\Programs\\Anaconda\\envs\\workWIO\\lib\\site-packages\\IPython\\core\\interactiveshell.py:3433\u001b[0m in \u001b[0;35mrun_code\u001b[0m\n    exec(code_obj, self.user_global_ns, self.user_ns)\u001b[0m\n",
      "\u001b[0m  Cell \u001b[0;32mIn [2], line 7\u001b[0m\n    import metadata_pipeline as mph\u001b[0m\n",
      "\u001b[1;36m  File \u001b[1;32m~\\Documents\\neuropath_wsi_organizer\\extractSchemaFromFileNames\\Emory\\metadata_pipeline.py:8\u001b[1;36m\n\u001b[1;33m    import brain_region_maps\u001b[1;36m\n",
      "\u001b[1;36m  File \u001b[1;32m~\\Documents\\neuropath_wsi_organizer\\extractSchemaFromFileNames\\Emory\\brain_region_maps.py:1716\u001b[1;36m\u001b[0m\n\u001b[1;33m    <<<<<<< HEAD\u001b[0m\n\u001b[1;37m    ^\u001b[0m\n\u001b[1;31mSyntaxError\u001b[0m\u001b[1;31m:\u001b[0m invalid syntax\n"
     ]
    }
   ],
   "source": [
    "import os\n",
    "# girder_client docs are here: https://girder.readthedocs.io/en/stable/python-client.html#the-python-client-library\n",
    "import girder_client\n",
    "\n",
    "from dotenv import load_dotenv\n",
    "\n",
    "import metadata_pipeline as mph \n",
    "import brain_region_maps as brm"
   ]
  },
  {
   "cell_type": "code",
   "execution_count": null,
   "id": "29b5bea2",
   "metadata": {},
   "outputs": [],
   "source": [
    "load_dotenv()\n",
    "gc = girder_client.GirderClient(apiUrl=os.environ.get(\"dsaApiUrl\"))\n",
    "gc.authenticate(apiKey=os.environ.get(\"dsaApiToken\"))"
   ]
  },
  {
   "cell_type": "code",
   "execution_count": null,
   "id": "98f0a89d",
   "metadata": {},
   "outputs": [],
   "source": [
    "NeuroPathDemoImages_Collection='63d98235e08050e0a7a8d75d'"
   ]
  },
  {
   "cell_type": "code",
   "execution_count": null,
   "id": "fc1f439b",
   "metadata": {},
   "outputs": [],
   "source": [
    "mph.populateMetadata(gc, collectionID=NeuroPathDemoImages_Collection, outputFailed=True)"
   ]
  },
  {
   "cell_type": "code",
   "execution_count": null,
   "id": "5b369a14",
   "metadata": {},
   "outputs": [],
   "source": [
    "mph.auditMetadata(gc, collectionID=NeuroPathDemoImages_Collection, outputRecords=True)"
   ]
  },
  {
   "cell_type": "code",
   "execution_count": null,
   "id": "6ec0ace5",
   "metadata": {
    "scrolled": true
   },
   "outputs": [],
   "source": [
    "mph.getSummaryStats(gc, collectionID=NeuroPathDemoImages_Collection)"
   ]
  },
  {
   "cell_type": "code",
   "execution_count": null,
   "id": "7428fb83",
   "metadata": {},
   "outputs": [],
   "source": [
    "mph.getMissingBrainRegion()"
   ]
  }
 ],
 "metadata": {
  "kernelspec": {
   "display_name": "Python 3 (ipykernel)",
   "language": "python",
   "name": "python3"
  },
  "language_info": {
   "codemirror_mode": {
    "name": "ipython",
    "version": 3
   },
   "file_extension": ".py",
   "mimetype": "text/x-python",
   "name": "python",
   "nbconvert_exporter": "python",
   "pygments_lexer": "ipython3",
   "version": "3.9.15"
  },
  "vscode": {
   "interpreter": {
    "hash": "0abf16d6d6a5873c5ad25c93b03767ddd1623fe8cc4ac973b32436fa100ebcbf"
   }
  }
 },
 "nbformat": 4,
 "nbformat_minor": 5
}
