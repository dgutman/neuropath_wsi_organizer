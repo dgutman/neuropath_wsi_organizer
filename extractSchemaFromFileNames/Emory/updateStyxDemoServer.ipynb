{
 "cells": [
  {
   "cell_type": "code",
   "execution_count": null,
   "id": "228bfc7d",
   "metadata": {},
   "outputs": [],
   "source": [
    "import girder_client \n",
    "%load_ext autoreload\n",
    "%autoreload 2\n",
    "#import adrcSchemaHelpers as hlprs\n",
    "import metadata_pipeline as mph \n",
    "import brain_region_maps as brm\n",
    "\n",
    "#gc = girder_client.GirderClient(apiUrl=\"https://styx.neurology.emory.edu/girder/api/v1\")\n",
    "gc = girder_client.GirderClient(apiUrl=\"http://candygram.neurology.emory.edu:8080/api/v1\")\n",
    "_ = gc.authenticate(interactive=True)"
   ]
  },
  {
   "cell_type": "code",
   "execution_count": null,
   "id": "98f0a89d",
   "metadata": {},
   "outputs": [],
   "source": [
    "NeuroPathDemoImages_Collection='638e2da11f75016b81fda12f'"
   ]
  },
  {
   "cell_type": "code",
   "execution_count": null,
   "id": "fc1f439b",
   "metadata": {},
   "outputs": [],
   "source": [
    "mph.populateMetadata(gc, collectionID=NeuroPathDemoImages_Collection, outputFailed=False)"
   ]
  },
  {
   "cell_type": "code",
   "execution_count": null,
   "id": "5b369a14",
   "metadata": {},
   "outputs": [],
   "source": [
    "mph.auditMetadata(gc, collectionID=NeuroPathDemoImages_Collection, outputRecords=True)"
   ]
  },
  {
   "cell_type": "code",
   "execution_count": null,
   "id": "6ec0ace5",
   "metadata": {},
   "outputs": [],
   "source": [
    "mph.getSummaryStats(gc, collectionID=NeuroPathDemoImages_Collection)"
   ]
  },
  {
   "cell_type": "code",
   "execution_count": null,
   "id": "53d37dd5",
   "metadata": {},
   "outputs": [],
   "source": [
    "import pandas as pd\n",
    "\n",
    "summaryStats = pd.read_csv(\"./summaryStats.csv\", dtype=str)\n",
    "print(summaryStats.head())"
   ]
  },
  {
   "cell_type": "code",
   "execution_count": null,
   "id": "4ccc1f19",
   "metadata": {},
   "outputs": [],
   "source": [
    "def statSummary(row):\n",
    "    \n",
    "    filt = summaryStats[\"uid\"] == row[\"uid\"]\n",
    "    summary = summaryStats.loc[filt, \"state\"].value_counts()\n",
    "    \n",
    "    for val in summary.index:\n",
    "        row[f\"{val}_count\"] = summary[val]\n",
    "        \n",
    "    row[\"year\"] = row[\"uid\"][:4]\n",
    "    row[\"case\"] = row[\"uid\"][4:]\n",
    "    \n",
    "    return row"
   ]
  },
  {
   "cell_type": "code",
   "execution_count": null,
   "id": "d7edf0ef",
   "metadata": {},
   "outputs": [],
   "source": [
    "summaryStats[\"uid\"] = summaryStats[\"year\"] + summaryStats[\"folder_name\"]\n",
    "\n",
    "uids = pd.DataFrame({\"uid\": summaryStats[\"uid\"].unique()})\n",
    "uids[[\"year\", \"case\", \"invalid_count\", \"control_count\", \"valid_count\"]] = None\n",
    "\n",
    "uids = uids.apply(statSummary, axis=1)\n",
    "uids.fillna(0.0, inplace=True)\n",
    "\n",
    "uids.drop(columns=[\"uid\"], inplace=True)\n",
    "\n",
    "uids.columns = [\"year\", \"case\", \"invalid_count\", \"control_count\", \"valid_count\"]\n",
    "\n",
    "uids.to_csv(\"./case_counts_by_slide_validity.csv\", index=False)"
   ]
  },
  {
   "cell_type": "code",
   "execution_count": null,
   "id": "9cd41d2c",
   "metadata": {},
   "outputs": [],
   "source": [
    "%load_ext autoreload\n",
    "%autoreload 2"
   ]
  },
  {
   "cell_type": "code",
   "execution_count": null,
   "id": "ecb6a915",
   "metadata": {},
   "outputs": [],
   "source": [
    "import os\n",
    "# girder_client docs are here: https://girder.readthedocs.io/en/stable/python-client.html#the-python-client-library\n",
    "import girder_client\n",
    "\n",
    "from dotenv import load_dotenv\n",
    "\n",
    "import metadata_pipeline as mph \n",
    "import brain_region_maps as brm"
   ]
  },
  {
   "cell_type": "code",
   "execution_count": null,
   "id": "29b5bea2",
   "metadata": {},
   "outputs": [],
   "source": [
    "load_dotenv()\n",
    "gc = girder_client.GirderClient(apiUrl=os.environ.get(\"dsaApiUrl\"))\n",
    "gc.authenticate(apiKey=os.environ.get(\"dsaApiToken\"))"
   ]
  },
  {
   "cell_type": "code",
   "execution_count": null,
   "id": "fafce0b3",
   "metadata": {},
   "outputs": [],
   "source": [
    "NeuroPathDemoImages_Collection='63d98235e08050e0a7a8d75d'"
   ]
  },
  {
   "cell_type": "code",
   "execution_count": null,
   "id": "e336207c",
   "metadata": {},
   "outputs": [],
   "source": [
    "mph.populateMetadata(gc, collectionID=NeuroPathDemoImages_Collection, outputFailed=True)"
   ]
  },
  {
   "cell_type": "code",
   "execution_count": null,
   "id": "45119a50",
   "metadata": {},
   "outputs": [],
   "source": [
    "mph.auditMetadata(gc, collectionID=NeuroPathDemoImages_Collection, outputRecords=True)"
   ]
  },
  {
   "cell_type": "code",
   "execution_count": null,
   "id": "1faf5a65",
   "metadata": {},
   "outputs": [],
   "source": [
    "## Need to do this on a per case basis\n",
    "needsBrainRegionMap = []\n",
    "slideSummaryData = {}\n",
    "\n",
    "for yrf in gc.listFolder(NeuroPathDemoImages_Collection,parentFolderType='collection'):\n",
    "    year = yrf['name']\n",
    "    if year.isdigit():\n",
    "        slideSummaryData[year] = {} ## Going to create a stats dictionary ordered by year/pt\n",
    "        \n",
    "        for pt in gc.listFolder(yrf['_id']):\n",
    "            slideSummaryData[year][pt['name']] = {}\n",
    "            \n",
    "            if pt['name'] not in brm.MAP:\n",
    "                #print(year,pt['name'],\"Needs Brain Region Map\")\n",
    "                slideSummaryData[year][pt['name']] = {\"status\": \"incomplete\", \"reason\": \"needs brain region map\"}\n",
    "        \n",
    "            else:\n",
    "\n",
    "                ptItemData = mph.getFolderContents(gc,pt['_id']) ### Get all of the items cfor selected year\n",
    "        \n",
    "                stats = getPtSlideDataSummary(ptItemData,debug=True)\n",
    "                slideSummaryData[year][pt['name']] = stats"
   ]
  },
  {
   "cell_type": "code",
   "execution_count": null,
   "id": "da2fdf4d",
   "metadata": {},
   "outputs": [],
   "source": [
    "needsMap = []\n",
    "for yr in slideSummaryData:\n",
    "    for pt in slideSummaryData[yr]:\n",
    "        caseMeta = slideSummaryData[yr][pt]\n",
    "        if caseMeta['status'] == 'parsed':\n",
    "            print(yr,pt,caseMeta['valid'],caseMeta['notValid'])\n",
    "        elif caseMeta['status'] == 'incomplete':\n",
    "            needsMap.append((yr,pt))"
   ]
  },
  {
   "cell_type": "code",
   "execution_count": null,
   "id": "3e12d6db",
   "metadata": {},
   "outputs": [],
   "source": [
    "mph.auditMetadata(gc,collectionID=NeuroPathDemoImages_Collection,outputRecords=True)"
   ]
  },
  {
   "cell_type": "code",
   "execution_count": null,
   "id": "f0b8a255",
   "metadata": {},
   "outputs": [],
   "source": [
    "# folder2020 = '638e81331f75016b81febf39'\n",
    "\n",
    "# itemData2020 = mph.getFolderContents(gc,folder2020)"
   ]
  },
  {
   "cell_type": "code",
   "execution_count": null,
   "id": "1d1d12af",
   "metadata": {},
   "outputs": [],
   "source": [
    "allNpWorking = []\n",
    "\n",
    "for itm in itemData2020:\n",
    "    if 'meta' in itm and 'npWorking' in itm['meta']:\n",
    "        allNpWorking.append(itm)"
   ]
  },
  {
   "cell_type": "code",
   "execution_count": null,
   "id": "d29cc3db",
   "metadata": {},
   "outputs": [],
   "source": [
    "[(x['meta']['npWorking'],x['name']) for x in allNpWorking]"
   ]
  },
  {
   "cell_type": "code",
   "execution_count": null,
   "id": "1b469369",
   "metadata": {},
   "outputs": [],
   "source": [
    "for pt in slideSummaryData['2017'].keys():\n",
    "    s=  slideSummaryData['2017'][pt]\n",
    "    if 'valid' in s:\n",
    "        print('2017',pt,s['valid'],s['notValid'],s['controlSlides'])\n",
    "    "
   ]
  },
  {
   "cell_type": "code",
   "execution_count": null,
   "id": "c9f7955a",
   "metadata": {},
   "outputs": [],
   "source": [
    "for i in slideSummaryData['2017']['E17-39']['slidesToReview']:\n",
    "    print(i)"
   ]
  },
  {
   "cell_type": "code",
   "execution_count": null,
   "id": "62fca5ee",
   "metadata": {},
   "outputs": [],
   "source": [
    "allItemData = mph.get"
   ]
  },
  {
   "cell_type": "code",
   "execution_count": null,
   "id": "79136d40",
   "metadata": {},
   "outputs": [],
   "source": [
    "# for y in gc.listFolder(NeuroPathDemoImages_Collection,parentFolderType='collection'):\n",
    "#     if y['name'].startswith('20'):\n",
    "#         for ptId in gc.listFolder(y['_id']):\n",
    "#             print(ptId['name'])\n",
    "#             hlprs.scanMetadata(gc,ptId,updateGirder=True)"
   ]
  },
  {
   "cell_type": "code",
   "execution_count": null,
   "id": "134bdd1f",
   "metadata": {},
   "outputs": [],
   "source": [
    "mph.getSummaryStats(gc, collectionID=NeuroPathDemoImages_Collection)"
   ]
  },
  {
   "cell_type": "code",
   "execution_count": null,
   "id": "7428fb83",
   "metadata": {},
   "outputs": [],
   "source": [
    "mph.getMissingBrainRegion()"
   ]
  }
 ],
 "metadata": {
  "kernelspec": {
   "display_name": "Python 3 (ipykernel)",
   "language": "python",
   "name": "python3"
  },
  "language_info": {
   "codemirror_mode": {
    "name": "ipython",
    "version": 3
   },
   "file_extension": ".py",
   "mimetype": "text/x-python",
   "name": "python",
   "nbconvert_exporter": "python",
   "pygments_lexer": "ipython3",
   "version": "3.9.15"
  }
 },
 "nbformat": 4,
 "nbformat_minor": 5
}
