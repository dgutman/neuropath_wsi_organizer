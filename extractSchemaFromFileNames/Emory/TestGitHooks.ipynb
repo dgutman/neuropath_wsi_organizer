{
 "cells": [
  {
   "cell_type": "code",
   "execution_count": null,
   "id": "e1d8de0b",
   "metadata": {},
   "outputs": [],
   "source": [
    "import girder_client\n",
    "from dotenv import load_dotenv\n"
   ]
  },
  {
   "cell_type": "code",
   "execution_count": null,
   "id": "98b7fc14",
   "metadata": {},
   "outputs": [],
   "source": [
    "print(\"HELLO WORLD\")"
   ]
  },
  {
   "cell_type": "code",
   "execution_count": null,
   "id": "5ccf2259",
   "metadata": {},
   "outputs": [],
   "source": [
    "print(\"ANOTHER TEST\")"
   ]
  },
  {
   "cell_type": "code",
   "execution_count": null,
   "id": "d38adfe2",
   "metadata": {},
   "outputs": [],
   "source": []
  },
  {
   "cell_type": "code",
   "execution_count": null,
   "id": "e2a7158f",
   "metadata": {},
   "outputs": [],
   "source": []
  }
 ],
 "metadata": {
  "kernelspec": {
   "display_name": "Python 3 (ipykernel)",
   "language": "python",
   "name": "python3"
  },
  "language_info": {
   "codemirror_mode": {
    "name": "ipython",
    "version": 3
   },
   "file_extension": ".py",
   "mimetype": "text/x-python",
   "name": "python",
   "nbconvert_exporter": "python",
   "pygments_lexer": "ipython3",
   "version": "3.8.10"
  }
 },
 "nbformat": 4,
 "nbformat_minor": 5
}
